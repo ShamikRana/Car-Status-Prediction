{
 "cells": [
  {
   "cell_type": "code",
   "execution_count": 1,
   "id": "ada11ced",
   "metadata": {},
   "outputs": [],
   "source": [
    "import numpy as np\n",
    "import pandas as pd\n",
    "import matplotlib.pyplot as plt\n",
    "import seaborn as sns\n",
    "import sklearn as sk"
   ]
  },
  {
   "cell_type": "code",
   "execution_count": 2,
   "id": "b8a6d84d",
   "metadata": {},
   "outputs": [],
   "source": [
    "df = pd.read_csv(\"car_data.csv\")"
   ]
  },
  {
   "cell_type": "code",
   "execution_count": 3,
   "id": "d2fc5e23",
   "metadata": {},
   "outputs": [
    {
     "data": {
      "text/html": [
       "<div>\n",
       "<style scoped>\n",
       "    .dataframe tbody tr th:only-of-type {\n",
       "        vertical-align: middle;\n",
       "    }\n",
       "\n",
       "    .dataframe tbody tr th {\n",
       "        vertical-align: top;\n",
       "    }\n",
       "\n",
       "    .dataframe thead th {\n",
       "        text-align: right;\n",
       "    }\n",
       "</style>\n",
       "<table border=\"1\" class=\"dataframe\">\n",
       "  <thead>\n",
       "    <tr style=\"text-align: right;\">\n",
       "      <th></th>\n",
       "      <th>Unnamed: 0</th>\n",
       "      <th>Model</th>\n",
       "      <th>Year</th>\n",
       "      <th>Status</th>\n",
       "      <th>Mileage</th>\n",
       "      <th>Price</th>\n",
       "      <th>MSRP</th>\n",
       "    </tr>\n",
       "  </thead>\n",
       "  <tbody>\n",
       "    <tr>\n",
       "      <th>0</th>\n",
       "      <td>0</td>\n",
       "      <td>2022 Acura TLX A-Spec</td>\n",
       "      <td>2022</td>\n",
       "      <td>New</td>\n",
       "      <td>Not available</td>\n",
       "      <td>$49,445</td>\n",
       "      <td>MSRP $49,445</td>\n",
       "    </tr>\n",
       "    <tr>\n",
       "      <th>1</th>\n",
       "      <td>1</td>\n",
       "      <td>2023 Acura RDX A-Spec</td>\n",
       "      <td>2023</td>\n",
       "      <td>New</td>\n",
       "      <td>Not available</td>\n",
       "      <td>$50,895</td>\n",
       "      <td>Not specified</td>\n",
       "    </tr>\n",
       "    <tr>\n",
       "      <th>2</th>\n",
       "      <td>2</td>\n",
       "      <td>2023 Acura TLX Type S</td>\n",
       "      <td>2023</td>\n",
       "      <td>New</td>\n",
       "      <td>Not available</td>\n",
       "      <td>$57,745</td>\n",
       "      <td>Not specified</td>\n",
       "    </tr>\n",
       "    <tr>\n",
       "      <th>3</th>\n",
       "      <td>3</td>\n",
       "      <td>2023 Acura TLX Type S</td>\n",
       "      <td>2023</td>\n",
       "      <td>New</td>\n",
       "      <td>Not available</td>\n",
       "      <td>$57,545</td>\n",
       "      <td>Not specified</td>\n",
       "    </tr>\n",
       "    <tr>\n",
       "      <th>4</th>\n",
       "      <td>4</td>\n",
       "      <td>2019 Acura MDX Sport Hybrid 3.0L w/Technology ...</td>\n",
       "      <td>2019</td>\n",
       "      <td>Used</td>\n",
       "      <td>32,675 mi.</td>\n",
       "      <td>$40,990</td>\n",
       "      <td>$600 price drop</td>\n",
       "    </tr>\n",
       "  </tbody>\n",
       "</table>\n",
       "</div>"
      ],
      "text/plain": [
       "   Unnamed: 0                                              Model  Year Status  \\\n",
       "0           0                              2022 Acura TLX A-Spec  2022    New   \n",
       "1           1                              2023 Acura RDX A-Spec  2023    New   \n",
       "2           2                              2023 Acura TLX Type S  2023    New   \n",
       "3           3                              2023 Acura TLX Type S  2023    New   \n",
       "4           4  2019 Acura MDX Sport Hybrid 3.0L w/Technology ...  2019   Used   \n",
       "\n",
       "         Mileage    Price             MSRP  \n",
       "0  Not available  $49,445     MSRP $49,445  \n",
       "1  Not available  $50,895    Not specified  \n",
       "2  Not available  $57,745    Not specified  \n",
       "3  Not available  $57,545    Not specified  \n",
       "4     32,675 mi.  $40,990  $600 price drop  "
      ]
     },
     "execution_count": 3,
     "metadata": {},
     "output_type": "execute_result"
    }
   ],
   "source": [
    "df.head()"
   ]
  },
  {
   "cell_type": "code",
   "execution_count": 4,
   "id": "3f0ac14f",
   "metadata": {},
   "outputs": [],
   "source": [
    "df.drop([\"Unnamed: 0\", \"MSRP\", \"Mileage\"], axis = 1, inplace = True)"
   ]
  },
  {
   "cell_type": "code",
   "execution_count": 5,
   "id": "ccc76799",
   "metadata": {},
   "outputs": [
    {
     "data": {
      "text/html": [
       "<div>\n",
       "<style scoped>\n",
       "    .dataframe tbody tr th:only-of-type {\n",
       "        vertical-align: middle;\n",
       "    }\n",
       "\n",
       "    .dataframe tbody tr th {\n",
       "        vertical-align: top;\n",
       "    }\n",
       "\n",
       "    .dataframe thead th {\n",
       "        text-align: right;\n",
       "    }\n",
       "</style>\n",
       "<table border=\"1\" class=\"dataframe\">\n",
       "  <thead>\n",
       "    <tr style=\"text-align: right;\">\n",
       "      <th></th>\n",
       "      <th>Model</th>\n",
       "      <th>Year</th>\n",
       "      <th>Status</th>\n",
       "      <th>Price</th>\n",
       "    </tr>\n",
       "  </thead>\n",
       "  <tbody>\n",
       "    <tr>\n",
       "      <th>0</th>\n",
       "      <td>2022 Acura TLX A-Spec</td>\n",
       "      <td>2022</td>\n",
       "      <td>New</td>\n",
       "      <td>$49,445</td>\n",
       "    </tr>\n",
       "    <tr>\n",
       "      <th>1</th>\n",
       "      <td>2023 Acura RDX A-Spec</td>\n",
       "      <td>2023</td>\n",
       "      <td>New</td>\n",
       "      <td>$50,895</td>\n",
       "    </tr>\n",
       "    <tr>\n",
       "      <th>2</th>\n",
       "      <td>2023 Acura TLX Type S</td>\n",
       "      <td>2023</td>\n",
       "      <td>New</td>\n",
       "      <td>$57,745</td>\n",
       "    </tr>\n",
       "    <tr>\n",
       "      <th>3</th>\n",
       "      <td>2023 Acura TLX Type S</td>\n",
       "      <td>2023</td>\n",
       "      <td>New</td>\n",
       "      <td>$57,545</td>\n",
       "    </tr>\n",
       "    <tr>\n",
       "      <th>4</th>\n",
       "      <td>2019 Acura MDX Sport Hybrid 3.0L w/Technology ...</td>\n",
       "      <td>2019</td>\n",
       "      <td>Used</td>\n",
       "      <td>$40,990</td>\n",
       "    </tr>\n",
       "  </tbody>\n",
       "</table>\n",
       "</div>"
      ],
      "text/plain": [
       "                                               Model  Year Status    Price\n",
       "0                              2022 Acura TLX A-Spec  2022    New  $49,445\n",
       "1                              2023 Acura RDX A-Spec  2023    New  $50,895\n",
       "2                              2023 Acura TLX Type S  2023    New  $57,745\n",
       "3                              2023 Acura TLX Type S  2023    New  $57,545\n",
       "4  2019 Acura MDX Sport Hybrid 3.0L w/Technology ...  2019   Used  $40,990"
      ]
     },
     "execution_count": 5,
     "metadata": {},
     "output_type": "execute_result"
    }
   ],
   "source": [
    "df.head()"
   ]
  },
  {
   "cell_type": "code",
   "execution_count": 6,
   "id": "24cec876",
   "metadata": {},
   "outputs": [],
   "source": [
    "df[\"Model\"] = df[\"Model\"].str[5:]"
   ]
  },
  {
   "cell_type": "code",
   "execution_count": 7,
   "id": "ca3fefcb",
   "metadata": {},
   "outputs": [
    {
     "data": {
      "text/html": [
       "<div>\n",
       "<style scoped>\n",
       "    .dataframe tbody tr th:only-of-type {\n",
       "        vertical-align: middle;\n",
       "    }\n",
       "\n",
       "    .dataframe tbody tr th {\n",
       "        vertical-align: top;\n",
       "    }\n",
       "\n",
       "    .dataframe thead th {\n",
       "        text-align: right;\n",
       "    }\n",
       "</style>\n",
       "<table border=\"1\" class=\"dataframe\">\n",
       "  <thead>\n",
       "    <tr style=\"text-align: right;\">\n",
       "      <th></th>\n",
       "      <th>Model</th>\n",
       "      <th>Year</th>\n",
       "      <th>Status</th>\n",
       "      <th>Price</th>\n",
       "    </tr>\n",
       "  </thead>\n",
       "  <tbody>\n",
       "    <tr>\n",
       "      <th>0</th>\n",
       "      <td>Acura TLX A-Spec</td>\n",
       "      <td>2022</td>\n",
       "      <td>New</td>\n",
       "      <td>$49,445</td>\n",
       "    </tr>\n",
       "    <tr>\n",
       "      <th>1</th>\n",
       "      <td>Acura RDX A-Spec</td>\n",
       "      <td>2023</td>\n",
       "      <td>New</td>\n",
       "      <td>$50,895</td>\n",
       "    </tr>\n",
       "    <tr>\n",
       "      <th>2</th>\n",
       "      <td>Acura TLX Type S</td>\n",
       "      <td>2023</td>\n",
       "      <td>New</td>\n",
       "      <td>$57,745</td>\n",
       "    </tr>\n",
       "    <tr>\n",
       "      <th>3</th>\n",
       "      <td>Acura TLX Type S</td>\n",
       "      <td>2023</td>\n",
       "      <td>New</td>\n",
       "      <td>$57,545</td>\n",
       "    </tr>\n",
       "    <tr>\n",
       "      <th>4</th>\n",
       "      <td>Acura MDX Sport Hybrid 3.0L w/Technology Package</td>\n",
       "      <td>2019</td>\n",
       "      <td>Used</td>\n",
       "      <td>$40,990</td>\n",
       "    </tr>\n",
       "  </tbody>\n",
       "</table>\n",
       "</div>"
      ],
      "text/plain": [
       "                                              Model  Year Status    Price\n",
       "0                                  Acura TLX A-Spec  2022    New  $49,445\n",
       "1                                  Acura RDX A-Spec  2023    New  $50,895\n",
       "2                                  Acura TLX Type S  2023    New  $57,745\n",
       "3                                  Acura TLX Type S  2023    New  $57,545\n",
       "4  Acura MDX Sport Hybrid 3.0L w/Technology Package  2019   Used  $40,990"
      ]
     },
     "execution_count": 7,
     "metadata": {},
     "output_type": "execute_result"
    }
   ],
   "source": [
    "df.head()"
   ]
  },
  {
   "cell_type": "code",
   "execution_count": 8,
   "id": "18e80794",
   "metadata": {},
   "outputs": [
    {
     "data": {
      "image/png": "[encoded data removed]",
      "text/plain": [
       "<Figure size 800x600 with 1 Axes>"
      ]
     },
     "metadata": {},
     "output_type": "display_data"
    }
   ],
   "source": [
    "plt.figure(figsize=(8,6))\n",
    "sns.histplot(df.Status, color = \"green\")\n",
    "plt.xticks(rotation=90)\n",
    "plt.show()"
   ]
  },
  {
   "cell_type": "code",
   "execution_count": 9,
   "id": "4667a3d2",
   "metadata": {},
   "outputs": [
    {
     "data": {
      "image/png": "[encoded data removed]",
      "text/plain": [
       "<Figure size 800x500 with 1 Axes>"
      ]
     },
     "metadata": {},
     "output_type": "display_data"
    }
   ],
   "source": [
    "plt.figure(figsize=(8,5))\n",
    "sns.histplot(df.Year,color=\"green\")\n",
    "plt.show()"
   ]
  },
  {
   "cell_type": "code",
   "execution_count": 10,
   "id": "ffd7b372",
   "metadata": {},
   "outputs": [],
   "source": [
    "df = df[df[\"Status\"].isin([\"New\", \"Used\"])]"
   ]
  },
  {
   "cell_type": "code",
   "execution_count": 11,
   "id": "4ddd53bc",
   "metadata": {},
   "outputs": [
    {
     "data": {
      "text/html": [
       "<div>\n",
       "<style scoped>\n",
       "    .dataframe tbody tr th:only-of-type {\n",
       "        vertical-align: middle;\n",
       "    }\n",
       "\n",
       "    .dataframe tbody tr th {\n",
       "        vertical-align: top;\n",
       "    }\n",
       "\n",
       "    .dataframe thead th {\n",
       "        text-align: right;\n",
       "    }\n",
       "</style>\n",
       "<table border=\"1\" class=\"dataframe\">\n",
       "  <thead>\n",
       "    <tr style=\"text-align: right;\">\n",
       "      <th></th>\n",
       "      <th>Model</th>\n",
       "      <th>Year</th>\n",
       "      <th>Status</th>\n",
       "      <th>Price</th>\n",
       "    </tr>\n",
       "  </thead>\n",
       "  <tbody>\n",
       "    <tr>\n",
       "      <th>0</th>\n",
       "      <td>Acura TLX A-Spec</td>\n",
       "      <td>2022</td>\n",
       "      <td>New</td>\n",
       "      <td>$49,445</td>\n",
       "    </tr>\n",
       "    <tr>\n",
       "      <th>1</th>\n",
       "      <td>Acura RDX A-Spec</td>\n",
       "      <td>2023</td>\n",
       "      <td>New</td>\n",
       "      <td>$50,895</td>\n",
       "    </tr>\n",
       "    <tr>\n",
       "      <th>2</th>\n",
       "      <td>Acura TLX Type S</td>\n",
       "      <td>2023</td>\n",
       "      <td>New</td>\n",
       "      <td>$57,745</td>\n",
       "    </tr>\n",
       "    <tr>\n",
       "      <th>3</th>\n",
       "      <td>Acura TLX Type S</td>\n",
       "      <td>2023</td>\n",
       "      <td>New</td>\n",
       "      <td>$57,545</td>\n",
       "    </tr>\n",
       "    <tr>\n",
       "      <th>4</th>\n",
       "      <td>Acura MDX Sport Hybrid 3.0L w/Technology Package</td>\n",
       "      <td>2019</td>\n",
       "      <td>Used</td>\n",
       "      <td>$40,990</td>\n",
       "    </tr>\n",
       "  </tbody>\n",
       "</table>\n",
       "</div>"
      ],
      "text/plain": [
       "                                              Model  Year Status    Price\n",
       "0                                  Acura TLX A-Spec  2022    New  $49,445\n",
       "1                                  Acura RDX A-Spec  2023    New  $50,895\n",
       "2                                  Acura TLX Type S  2023    New  $57,745\n",
       "3                                  Acura TLX Type S  2023    New  $57,545\n",
       "4  Acura MDX Sport Hybrid 3.0L w/Technology Package  2019   Used  $40,990"
      ]
     },
     "execution_count": 11,
     "metadata": {},
     "output_type": "execute_result"
    }
   ],
   "source": [
    "df.head()"
   ]
  },
  {
   "cell_type": "code",
   "execution_count": 12,
   "id": "4b752e4b",
   "metadata": {},
   "outputs": [],
   "source": [
    "df[\"Price\"] = df[\"Price\"].replace({\"\\$\":\"\",\",\":\"\"}, regex = True)"
   ]
  },
  {
   "cell_type": "code",
   "execution_count": 13,
   "id": "9390089c",
   "metadata": {},
   "outputs": [
    {
     "data": {
      "text/html": [
       "<div>\n",
       "<style scoped>\n",
       "    .dataframe tbody tr th:only-of-type {\n",
       "        vertical-align: middle;\n",
       "    }\n",
       "\n",
       "    .dataframe tbody tr th {\n",
       "        vertical-align: top;\n",
       "    }\n",
       "\n",
       "    .dataframe thead th {\n",
       "        text-align: right;\n",
       "    }\n",
       "</style>\n",
       "<table border=\"1\" class=\"dataframe\">\n",
       "  <thead>\n",
       "    <tr style=\"text-align: right;\">\n",
       "      <th></th>\n",
       "      <th>Model</th>\n",
       "      <th>Year</th>\n",
       "      <th>Status</th>\n",
       "      <th>Price</th>\n",
       "    </tr>\n",
       "  </thead>\n",
       "  <tbody>\n",
       "    <tr>\n",
       "      <th>0</th>\n",
       "      <td>Acura TLX A-Spec</td>\n",
       "      <td>2022</td>\n",
       "      <td>New</td>\n",
       "      <td>49445</td>\n",
       "    </tr>\n",
       "    <tr>\n",
       "      <th>1</th>\n",
       "      <td>Acura RDX A-Spec</td>\n",
       "      <td>2023</td>\n",
       "      <td>New</td>\n",
       "      <td>50895</td>\n",
       "    </tr>\n",
       "    <tr>\n",
       "      <th>2</th>\n",
       "      <td>Acura TLX Type S</td>\n",
       "      <td>2023</td>\n",
       "      <td>New</td>\n",
       "      <td>57745</td>\n",
       "    </tr>\n",
       "    <tr>\n",
       "      <th>3</th>\n",
       "      <td>Acura TLX Type S</td>\n",
       "      <td>2023</td>\n",
       "      <td>New</td>\n",
       "      <td>57545</td>\n",
       "    </tr>\n",
       "    <tr>\n",
       "      <th>4</th>\n",
       "      <td>Acura MDX Sport Hybrid 3.0L w/Technology Package</td>\n",
       "      <td>2019</td>\n",
       "      <td>Used</td>\n",
       "      <td>40990</td>\n",
       "    </tr>\n",
       "  </tbody>\n",
       "</table>\n",
       "</div>"
      ],
      "text/plain": [
       "                                              Model  Year Status  Price\n",
       "0                                  Acura TLX A-Spec  2022    New  49445\n",
       "1                                  Acura RDX A-Spec  2023    New  50895\n",
       "2                                  Acura TLX Type S  2023    New  57745\n",
       "3                                  Acura TLX Type S  2023    New  57545\n",
       "4  Acura MDX Sport Hybrid 3.0L w/Technology Package  2019   Used  40990"
      ]
     },
     "execution_count": 13,
     "metadata": {},
     "output_type": "execute_result"
    }
   ],
   "source": [
    "df.head()"
   ]
  },
  {
   "cell_type": "code",
   "execution_count": 14,
   "id": "d5f7529f",
   "metadata": {},
   "outputs": [],
   "source": [
    "Model_stats = df[\"Model\"].value_counts(ascending=False)"
   ]
  },
  {
   "cell_type": "code",
   "execution_count": 15,
   "id": "e66eebc5",
   "metadata": {},
   "outputs": [
    {
     "data": {
      "text/plain": [
       "Tesla Model 3 Long Range                1803\n",
       "Mercedes-Benz S-Class S 580 4MATIC      1416\n",
       "Tesla Model Y Long Range                 993\n",
       "Tesla Model 3 Standard Range Plus        969\n",
       "INFINITI QX80 Luxe                       900\n",
       "                                        ... \n",
       "Porsche Panamera PLUS W/NAV                1\n",
       "Porsche Cayenne Turbo S E-Hybrid           1\n",
       "Chevrolet Express 1500 RWD 1500 135'       1\n",
       "Porsche Taycan 4                           1\n",
       "Volkswagen Golf GTI 2.0T SE 2-Door         1\n",
       "Name: Model, Length: 3410, dtype: int64"
      ]
     },
     "execution_count": 15,
     "metadata": {},
     "output_type": "execute_result"
    }
   ],
   "source": [
    "Model_stats"
   ]
  },
  {
   "cell_type": "code",
   "execution_count": 16,
   "id": "c83bd282",
   "metadata": {},
   "outputs": [
    {
     "data": {
      "text/plain": [
       "3410"
      ]
     },
     "execution_count": 16,
     "metadata": {},
     "output_type": "execute_result"
    }
   ],
   "source": [
    "len(Model_stats)"
   ]
  },
  {
   "cell_type": "code",
   "execution_count": 17,
   "id": "4aba518a",
   "metadata": {},
   "outputs": [
    {
     "data": {
      "text/plain": [
       "1204"
      ]
     },
     "execution_count": 17,
     "metadata": {},
     "output_type": "execute_result"
    }
   ],
   "source": [
    "len(Model_stats[Model_stats>10])"
   ]
  },
  {
   "cell_type": "code",
   "execution_count": 18,
   "id": "27d4a79e",
   "metadata": {},
   "outputs": [],
   "source": [
    "Model_stats_less_than_10 = Model_stats[Model_stats<=10]"
   ]
  },
  {
   "cell_type": "code",
   "execution_count": 19,
   "id": "3cd3e972",
   "metadata": {},
   "outputs": [
    {
     "data": {
      "text/plain": [
       "Chevrolet Impala 2LZ                    10\n",
       "Lexus ES 330                            10\n",
       "Ford Transit-350 Base                   10\n",
       "Lexus LS 430                            10\n",
       "Lexus GS 300                            10\n",
       "                                        ..\n",
       "Porsche Panamera PLUS W/NAV              1\n",
       "Porsche Cayenne Turbo S E-Hybrid         1\n",
       "Chevrolet Express 1500 RWD 1500 135'     1\n",
       "Porsche Taycan 4                         1\n",
       "Volkswagen Golf GTI 2.0T SE 2-Door       1\n",
       "Name: Model, Length: 2206, dtype: int64"
      ]
     },
     "execution_count": 19,
     "metadata": {},
     "output_type": "execute_result"
    }
   ],
   "source": [
    "Model_stats_less_than_10"
   ]
  },
  {
   "cell_type": "code",
   "execution_count": 20,
   "id": "f1b6e041",
   "metadata": {},
   "outputs": [
    {
     "data": {
      "text/plain": [
       "1205"
      ]
     },
     "execution_count": 20,
     "metadata": {},
     "output_type": "execute_result"
    }
   ],
   "source": [
    "df.Model = df.Model.apply(lambda x: \"Other\" if x in Model_stats_less_than_10 else x)\n",
    "len(df.Model.unique())"
   ]
  },
  {
   "cell_type": "code",
   "execution_count": 21,
   "id": "1dd5d243",
   "metadata": {},
   "outputs": [
    {
     "data": {
      "text/html": [
       "<div>\n",
       "<style scoped>\n",
       "    .dataframe tbody tr th:only-of-type {\n",
       "        vertical-align: middle;\n",
       "    }\n",
       "\n",
       "    .dataframe tbody tr th {\n",
       "        vertical-align: top;\n",
       "    }\n",
       "\n",
       "    .dataframe thead th {\n",
       "        text-align: right;\n",
       "    }\n",
       "</style>\n",
       "<table border=\"1\" class=\"dataframe\">\n",
       "  <thead>\n",
       "    <tr style=\"text-align: right;\">\n",
       "      <th></th>\n",
       "      <th>Model</th>\n",
       "      <th>Year</th>\n",
       "      <th>Status</th>\n",
       "      <th>Price</th>\n",
       "    </tr>\n",
       "  </thead>\n",
       "  <tbody>\n",
       "    <tr>\n",
       "      <th>0</th>\n",
       "      <td>Acura TLX A-Spec</td>\n",
       "      <td>2022</td>\n",
       "      <td>New</td>\n",
       "      <td>49445</td>\n",
       "    </tr>\n",
       "    <tr>\n",
       "      <th>1</th>\n",
       "      <td>Acura RDX A-Spec</td>\n",
       "      <td>2023</td>\n",
       "      <td>New</td>\n",
       "      <td>50895</td>\n",
       "    </tr>\n",
       "    <tr>\n",
       "      <th>2</th>\n",
       "      <td>Acura TLX Type S</td>\n",
       "      <td>2023</td>\n",
       "      <td>New</td>\n",
       "      <td>57745</td>\n",
       "    </tr>\n",
       "    <tr>\n",
       "      <th>3</th>\n",
       "      <td>Acura TLX Type S</td>\n",
       "      <td>2023</td>\n",
       "      <td>New</td>\n",
       "      <td>57545</td>\n",
       "    </tr>\n",
       "    <tr>\n",
       "      <th>4</th>\n",
       "      <td>Other</td>\n",
       "      <td>2019</td>\n",
       "      <td>Used</td>\n",
       "      <td>40990</td>\n",
       "    </tr>\n",
       "  </tbody>\n",
       "</table>\n",
       "</div>"
      ],
      "text/plain": [
       "              Model  Year Status  Price\n",
       "0  Acura TLX A-Spec  2022    New  49445\n",
       "1  Acura RDX A-Spec  2023    New  50895\n",
       "2  Acura TLX Type S  2023    New  57745\n",
       "3  Acura TLX Type S  2023    New  57545\n",
       "4             Other  2019   Used  40990"
      ]
     },
     "execution_count": 21,
     "metadata": {},
     "output_type": "execute_result"
    }
   ],
   "source": [
    "df.head()"
   ]
  },
  {
   "cell_type": "code",
   "execution_count": 22,
   "id": "0d12ce29",
   "metadata": {},
   "outputs": [
    {
     "data": {
      "text/plain": [
       "count         109701\n",
       "unique         36050\n",
       "top       Not Priced\n",
       "freq             640\n",
       "Name: Price, dtype: object"
      ]
     },
     "execution_count": 22,
     "metadata": {},
     "output_type": "execute_result"
    }
   ],
   "source": [
    "df.Price.describe()"
   ]
  },
  {
   "cell_type": "code",
   "execution_count": 23,
   "id": "53cc60e7",
   "metadata": {},
   "outputs": [],
   "source": [
    "df =df[(df[\"Price\"]!=\"Not Priced\")]"
   ]
  },
  {
   "cell_type": "code",
   "execution_count": 24,
   "id": "ce055f49",
   "metadata": {},
   "outputs": [],
   "source": [
    "df.Price = df.Price.astype(int)"
   ]
  },
  {
   "cell_type": "code",
   "execution_count": 25,
   "id": "c0f4ca6e",
   "metadata": {},
   "outputs": [
    {
     "data": {
      "text/plain": [
       "count    1.090610e+05\n",
       "mean     5.096194e+04\n",
       "std      3.737151e+04\n",
       "min      1.800000e+03\n",
       "25%      2.967200e+04\n",
       "50%      4.315500e+04\n",
       "75%      6.099500e+04\n",
       "max      2.499900e+06\n",
       "Name: Price, dtype: float64"
      ]
     },
     "execution_count": 25,
     "metadata": {},
     "output_type": "execute_result"
    }
   ],
   "source": [
    "df.Price.describe()"
   ]
  },
  {
   "cell_type": "code",
   "execution_count": 26,
   "id": "c2a9230d",
   "metadata": {},
   "outputs": [],
   "source": [
    "df.reset_index(drop=True, inplace=True)"
   ]
  },
  {
   "cell_type": "code",
   "execution_count": 27,
   "id": "b8c0fa68",
   "metadata": {},
   "outputs": [],
   "source": [
    "df[\"Status\"] = df[\"Status\"].replace({\"New\":1, \"Used\":0})"
   ]
  },
  {
   "cell_type": "code",
   "execution_count": 28,
   "id": "72271fd3",
   "metadata": {},
   "outputs": [],
   "source": [
    "dummies = pd.get_dummies(df.Model)"
   ]
  },
  {
   "cell_type": "code",
   "execution_count": 29,
   "id": "93c9374e",
   "metadata": {},
   "outputs": [
    {
     "data": {
      "text/html": [
       "<div>\n",
       "<style scoped>\n",
       "    .dataframe tbody tr th:only-of-type {\n",
       "        vertical-align: middle;\n",
       "    }\n",
       "\n",
       "    .dataframe tbody tr th {\n",
       "        vertical-align: top;\n",
       "    }\n",
       "\n",
       "    .dataframe thead th {\n",
       "        text-align: right;\n",
       "    }\n",
       "</style>\n",
       "<table border=\"1\" class=\"dataframe\">\n",
       "  <thead>\n",
       "    <tr style=\"text-align: right;\">\n",
       "      <th></th>\n",
       "      <th>Acura ILX</th>\n",
       "      <th>Acura ILX 2.0L</th>\n",
       "      <th>Acura ILX 2.0L Technology</th>\n",
       "      <th>Acura ILX 2.0L w/Premium Package</th>\n",
       "      <th>Acura ILX 2.4L</th>\n",
       "      <th>Acura ILX Base</th>\n",
       "      <th>Acura ILX Premium &amp; A-SPEC Packages</th>\n",
       "      <th>Acura ILX Premium Package</th>\n",
       "      <th>Acura ILX Technology Package</th>\n",
       "      <th>Acura ILX Technology Plus Package</th>\n",
       "      <th>...</th>\n",
       "      <th>Volkswagen Tiguan 2.0T SEL R-Line Black</th>\n",
       "      <th>Volkswagen Tiguan Limited 2.0T</th>\n",
       "      <th>Volkswagen Tiguan S</th>\n",
       "      <th>Volkswagen Tiguan SE</th>\n",
       "      <th>Volkswagen Tiguan SEL</th>\n",
       "      <th>Volkswagen Touareg Lux</th>\n",
       "      <th>Volkswagen Touareg V6 Wolfsburg Edition</th>\n",
       "      <th>Volkswagen Touareg VR6</th>\n",
       "      <th>Volkswagen e-Golf SE</th>\n",
       "      <th>Volkswagen e-Golf SEL Premium</th>\n",
       "    </tr>\n",
       "  </thead>\n",
       "  <tbody>\n",
       "    <tr>\n",
       "      <th>0</th>\n",
       "      <td>0</td>\n",
       "      <td>0</td>\n",
       "      <td>0</td>\n",
       "      <td>0</td>\n",
       "      <td>0</td>\n",
       "      <td>0</td>\n",
       "      <td>0</td>\n",
       "      <td>0</td>\n",
       "      <td>0</td>\n",
       "      <td>0</td>\n",
       "      <td>...</td>\n",
       "      <td>0</td>\n",
       "      <td>0</td>\n",
       "      <td>0</td>\n",
       "      <td>0</td>\n",
       "      <td>0</td>\n",
       "      <td>0</td>\n",
       "      <td>0</td>\n",
       "      <td>0</td>\n",
       "      <td>0</td>\n",
       "      <td>0</td>\n",
       "    </tr>\n",
       "    <tr>\n",
       "      <th>1</th>\n",
       "      <td>0</td>\n",
       "      <td>0</td>\n",
       "      <td>0</td>\n",
       "      <td>0</td>\n",
       "      <td>0</td>\n",
       "      <td>0</td>\n",
       "      <td>0</td>\n",
       "      <td>0</td>\n",
       "      <td>0</td>\n",
       "      <td>0</td>\n",
       "      <td>...</td>\n",
       "      <td>0</td>\n",
       "      <td>0</td>\n",
       "      <td>0</td>\n",
       "      <td>0</td>\n",
       "      <td>0</td>\n",
       "      <td>0</td>\n",
       "      <td>0</td>\n",
       "      <td>0</td>\n",
       "      <td>0</td>\n",
       "      <td>0</td>\n",
       "    </tr>\n",
       "    <tr>\n",
       "      <th>2</th>\n",
       "      <td>0</td>\n",
       "      <td>0</td>\n",
       "      <td>0</td>\n",
       "      <td>0</td>\n",
       "      <td>0</td>\n",
       "      <td>0</td>\n",
       "      <td>0</td>\n",
       "      <td>0</td>\n",
       "      <td>0</td>\n",
       "      <td>0</td>\n",
       "      <td>...</td>\n",
       "      <td>0</td>\n",
       "      <td>0</td>\n",
       "      <td>0</td>\n",
       "      <td>0</td>\n",
       "      <td>0</td>\n",
       "      <td>0</td>\n",
       "      <td>0</td>\n",
       "      <td>0</td>\n",
       "      <td>0</td>\n",
       "      <td>0</td>\n",
       "    </tr>\n",
       "    <tr>\n",
       "      <th>3</th>\n",
       "      <td>0</td>\n",
       "      <td>0</td>\n",
       "      <td>0</td>\n",
       "      <td>0</td>\n",
       "      <td>0</td>\n",
       "      <td>0</td>\n",
       "      <td>0</td>\n",
       "      <td>0</td>\n",
       "      <td>0</td>\n",
       "      <td>0</td>\n",
       "      <td>...</td>\n",
       "      <td>0</td>\n",
       "      <td>0</td>\n",
       "      <td>0</td>\n",
       "      <td>0</td>\n",
       "      <td>0</td>\n",
       "      <td>0</td>\n",
       "      <td>0</td>\n",
       "      <td>0</td>\n",
       "      <td>0</td>\n",
       "      <td>0</td>\n",
       "    </tr>\n",
       "    <tr>\n",
       "      <th>4</th>\n",
       "      <td>0</td>\n",
       "      <td>0</td>\n",
       "      <td>0</td>\n",
       "      <td>0</td>\n",
       "      <td>0</td>\n",
       "      <td>0</td>\n",
       "      <td>0</td>\n",
       "      <td>0</td>\n",
       "      <td>0</td>\n",
       "      <td>0</td>\n",
       "      <td>...</td>\n",
       "      <td>0</td>\n",
       "      <td>0</td>\n",
       "      <td>0</td>\n",
       "      <td>0</td>\n",
       "      <td>0</td>\n",
       "      <td>0</td>\n",
       "      <td>0</td>\n",
       "      <td>0</td>\n",
       "      <td>0</td>\n",
       "      <td>0</td>\n",
       "    </tr>\n",
       "  </tbody>\n",
       "</table>\n",
       "<p>5 rows × 1205 columns</p>\n",
       "</div>"
      ],
      "text/plain": [
       "   Acura ILX   Acura ILX 2.0L  Acura ILX 2.0L Technology  \\\n",
       "0           0               0                          0   \n",
       "1           0               0                          0   \n",
       "2           0               0                          0   \n",
       "3           0               0                          0   \n",
       "4           0               0                          0   \n",
       "\n",
       "   Acura ILX 2.0L w/Premium Package  Acura ILX 2.4L  Acura ILX Base  \\\n",
       "0                                 0               0               0   \n",
       "1                                 0               0               0   \n",
       "2                                 0               0               0   \n",
       "3                                 0               0               0   \n",
       "4                                 0               0               0   \n",
       "\n",
       "   Acura ILX Premium & A-SPEC Packages  Acura ILX Premium Package  \\\n",
       "0                                    0                          0   \n",
       "1                                    0                          0   \n",
       "2                                    0                          0   \n",
       "3                                    0                          0   \n",
       "4                                    0                          0   \n",
       "\n",
       "   Acura ILX Technology Package  Acura ILX Technology Plus Package  ...  \\\n",
       "0                             0                                  0  ...   \n",
       "1                             0                                  0  ...   \n",
       "2                             0                                  0  ...   \n",
       "3                             0                                  0  ...   \n",
       "4                             0                                  0  ...   \n",
       "\n",
       "   Volkswagen Tiguan 2.0T SEL R-Line Black  Volkswagen Tiguan Limited 2.0T  \\\n",
       "0                                        0                               0   \n",
       "1                                        0                               0   \n",
       "2                                        0                               0   \n",
       "3                                        0                               0   \n",
       "4                                        0                               0   \n",
       "\n",
       "   Volkswagen Tiguan S  Volkswagen Tiguan SE  Volkswagen Tiguan SEL  \\\n",
       "0                    0                     0                      0   \n",
       "1                    0                     0                      0   \n",
       "2                    0                     0                      0   \n",
       "3                    0                     0                      0   \n",
       "4                    0                     0                      0   \n",
       "\n",
       "   Volkswagen Touareg Lux  Volkswagen Touareg V6 Wolfsburg Edition  \\\n",
       "0                       0                                        0   \n",
       "1                       0                                        0   \n",
       "2                       0                                        0   \n",
       "3                       0                                        0   \n",
       "4                       0                                        0   \n",
       "\n",
       "   Volkswagen Touareg VR6  Volkswagen e-Golf SE  Volkswagen e-Golf SEL Premium  \n",
       "0                       0                     0                              0  \n",
       "1                       0                     0                              0  \n",
       "2                       0                     0                              0  \n",
       "3                       0                     0                              0  \n",
       "4                       0                     0                              0  \n",
       "\n",
       "[5 rows x 1205 columns]"
      ]
     },
     "execution_count": 29,
     "metadata": {},
     "output_type": "execute_result"
    }
   ],
   "source": [
    "dummies.head()"
   ]
  },
  {
   "cell_type": "code",
   "execution_count": 30,
   "id": "6b5baf74",
   "metadata": {},
   "outputs": [],
   "source": [
    "df = pd.concat([df, dummies.drop(\"Lexus LX 470 \", axis = \"columns\")], axis = \"columns\")"
   ]
  },
  {
   "cell_type": "code",
   "execution_count": 31,
   "id": "0d533d15",
   "metadata": {},
   "outputs": [
    {
     "data": {
      "text/html": [
       "<div>\n",
       "<style scoped>\n",
       "    .dataframe tbody tr th:only-of-type {\n",
       "        vertical-align: middle;\n",
       "    }\n",
       "\n",
       "    .dataframe tbody tr th {\n",
       "        vertical-align: top;\n",
       "    }\n",
       "\n",
       "    .dataframe thead th {\n",
       "        text-align: right;\n",
       "    }\n",
       "</style>\n",
       "<table border=\"1\" class=\"dataframe\">\n",
       "  <thead>\n",
       "    <tr style=\"text-align: right;\">\n",
       "      <th></th>\n",
       "      <th>Model</th>\n",
       "      <th>Year</th>\n",
       "      <th>Status</th>\n",
       "      <th>Price</th>\n",
       "      <th>Acura ILX</th>\n",
       "      <th>Acura ILX 2.0L</th>\n",
       "      <th>Acura ILX 2.0L Technology</th>\n",
       "      <th>Acura ILX 2.0L w/Premium Package</th>\n",
       "      <th>Acura ILX 2.4L</th>\n",
       "      <th>Acura ILX Base</th>\n",
       "      <th>...</th>\n",
       "      <th>Volkswagen Tiguan 2.0T SEL R-Line Black</th>\n",
       "      <th>Volkswagen Tiguan Limited 2.0T</th>\n",
       "      <th>Volkswagen Tiguan S</th>\n",
       "      <th>Volkswagen Tiguan SE</th>\n",
       "      <th>Volkswagen Tiguan SEL</th>\n",
       "      <th>Volkswagen Touareg Lux</th>\n",
       "      <th>Volkswagen Touareg V6 Wolfsburg Edition</th>\n",
       "      <th>Volkswagen Touareg VR6</th>\n",
       "      <th>Volkswagen e-Golf SE</th>\n",
       "      <th>Volkswagen e-Golf SEL Premium</th>\n",
       "    </tr>\n",
       "  </thead>\n",
       "  <tbody>\n",
       "    <tr>\n",
       "      <th>0</th>\n",
       "      <td>Acura TLX A-Spec</td>\n",
       "      <td>2022</td>\n",
       "      <td>1</td>\n",
       "      <td>49445</td>\n",
       "      <td>0</td>\n",
       "      <td>0</td>\n",
       "      <td>0</td>\n",
       "      <td>0</td>\n",
       "      <td>0</td>\n",
       "      <td>0</td>\n",
       "      <td>...</td>\n",
       "      <td>0</td>\n",
       "      <td>0</td>\n",
       "      <td>0</td>\n",
       "      <td>0</td>\n",
       "      <td>0</td>\n",
       "      <td>0</td>\n",
       "      <td>0</td>\n",
       "      <td>0</td>\n",
       "      <td>0</td>\n",
       "      <td>0</td>\n",
       "    </tr>\n",
       "    <tr>\n",
       "      <th>1</th>\n",
       "      <td>Acura RDX A-Spec</td>\n",
       "      <td>2023</td>\n",
       "      <td>1</td>\n",
       "      <td>50895</td>\n",
       "      <td>0</td>\n",
       "      <td>0</td>\n",
       "      <td>0</td>\n",
       "      <td>0</td>\n",
       "      <td>0</td>\n",
       "      <td>0</td>\n",
       "      <td>...</td>\n",
       "      <td>0</td>\n",
       "      <td>0</td>\n",
       "      <td>0</td>\n",
       "      <td>0</td>\n",
       "      <td>0</td>\n",
       "      <td>0</td>\n",
       "      <td>0</td>\n",
       "      <td>0</td>\n",
       "      <td>0</td>\n",
       "      <td>0</td>\n",
       "    </tr>\n",
       "    <tr>\n",
       "      <th>2</th>\n",
       "      <td>Acura TLX Type S</td>\n",
       "      <td>2023</td>\n",
       "      <td>1</td>\n",
       "      <td>57745</td>\n",
       "      <td>0</td>\n",
       "      <td>0</td>\n",
       "      <td>0</td>\n",
       "      <td>0</td>\n",
       "      <td>0</td>\n",
       "      <td>0</td>\n",
       "      <td>...</td>\n",
       "      <td>0</td>\n",
       "      <td>0</td>\n",
       "      <td>0</td>\n",
       "      <td>0</td>\n",
       "      <td>0</td>\n",
       "      <td>0</td>\n",
       "      <td>0</td>\n",
       "      <td>0</td>\n",
       "      <td>0</td>\n",
       "      <td>0</td>\n",
       "    </tr>\n",
       "    <tr>\n",
       "      <th>3</th>\n",
       "      <td>Acura TLX Type S</td>\n",
       "      <td>2023</td>\n",
       "      <td>1</td>\n",
       "      <td>57545</td>\n",
       "      <td>0</td>\n",
       "      <td>0</td>\n",
       "      <td>0</td>\n",
       "      <td>0</td>\n",
       "      <td>0</td>\n",
       "      <td>0</td>\n",
       "      <td>...</td>\n",
       "      <td>0</td>\n",
       "      <td>0</td>\n",
       "      <td>0</td>\n",
       "      <td>0</td>\n",
       "      <td>0</td>\n",
       "      <td>0</td>\n",
       "      <td>0</td>\n",
       "      <td>0</td>\n",
       "      <td>0</td>\n",
       "      <td>0</td>\n",
       "    </tr>\n",
       "    <tr>\n",
       "      <th>4</th>\n",
       "      <td>Other</td>\n",
       "      <td>2019</td>\n",
       "      <td>0</td>\n",
       "      <td>40990</td>\n",
       "      <td>0</td>\n",
       "      <td>0</td>\n",
       "      <td>0</td>\n",
       "      <td>0</td>\n",
       "      <td>0</td>\n",
       "      <td>0</td>\n",
       "      <td>...</td>\n",
       "      <td>0</td>\n",
       "      <td>0</td>\n",
       "      <td>0</td>\n",
       "      <td>0</td>\n",
       "      <td>0</td>\n",
       "      <td>0</td>\n",
       "      <td>0</td>\n",
       "      <td>0</td>\n",
       "      <td>0</td>\n",
       "      <td>0</td>\n",
       "    </tr>\n",
       "  </tbody>\n",
       "</table>\n",
       "<p>5 rows × 1208 columns</p>\n",
       "</div>"
      ],
      "text/plain": [
       "              Model  Year  Status  Price  Acura ILX   Acura ILX 2.0L  \\\n",
       "0  Acura TLX A-Spec  2022       1  49445           0               0   \n",
       "1  Acura RDX A-Spec  2023       1  50895           0               0   \n",
       "2  Acura TLX Type S  2023       1  57745           0               0   \n",
       "3  Acura TLX Type S  2023       1  57545           0               0   \n",
       "4             Other  2019       0  40990           0               0   \n",
       "\n",
       "   Acura ILX 2.0L Technology  Acura ILX 2.0L w/Premium Package  \\\n",
       "0                          0                                 0   \n",
       "1                          0                                 0   \n",
       "2                          0                                 0   \n",
       "3                          0                                 0   \n",
       "4                          0                                 0   \n",
       "\n",
       "   Acura ILX 2.4L  Acura ILX Base  ...  \\\n",
       "0               0               0  ...   \n",
       "1               0               0  ...   \n",
       "2               0               0  ...   \n",
       "3               0               0  ...   \n",
       "4               0               0  ...   \n",
       "\n",
       "   Volkswagen Tiguan 2.0T SEL R-Line Black  Volkswagen Tiguan Limited 2.0T  \\\n",
       "0                                        0                               0   \n",
       "1                                        0                               0   \n",
       "2                                        0                               0   \n",
       "3                                        0                               0   \n",
       "4                                        0                               0   \n",
       "\n",
       "   Volkswagen Tiguan S  Volkswagen Tiguan SE  Volkswagen Tiguan SEL  \\\n",
       "0                    0                     0                      0   \n",
       "1                    0                     0                      0   \n",
       "2                    0                     0                      0   \n",
       "3                    0                     0                      0   \n",
       "4                    0                     0                      0   \n",
       "\n",
       "   Volkswagen Touareg Lux  Volkswagen Touareg V6 Wolfsburg Edition  \\\n",
       "0                       0                                        0   \n",
       "1                       0                                        0   \n",
       "2                       0                                        0   \n",
       "3                       0                                        0   \n",
       "4                       0                                        0   \n",
       "\n",
       "   Volkswagen Touareg VR6  Volkswagen e-Golf SE  Volkswagen e-Golf SEL Premium  \n",
       "0                       0                     0                              0  \n",
       "1                       0                     0                              0  \n",
       "2                       0                     0                              0  \n",
       "3                       0                     0                              0  \n",
       "4                       0                     0                              0  \n",
       "\n",
       "[5 rows x 1208 columns]"
      ]
     },
     "execution_count": 31,
     "metadata": {},
     "output_type": "execute_result"
    }
   ],
   "source": [
    "df.head()"
   ]
  },
  {
   "cell_type": "code",
   "execution_count": 32,
   "id": "e3b503f0",
   "metadata": {},
   "outputs": [
    {
     "data": {
      "text/plain": [
       "(109061, 1208)"
      ]
     },
     "execution_count": 32,
     "metadata": {},
     "output_type": "execute_result"
    }
   ],
   "source": [
    "df.shape"
   ]
  },
  {
   "cell_type": "code",
   "execution_count": 33,
   "id": "53155841",
   "metadata": {},
   "outputs": [],
   "source": [
    "df = df.drop([\"Model\"], axis = 1)"
   ]
  },
  {
   "cell_type": "code",
   "execution_count": 34,
   "id": "275a6518",
   "metadata": {},
   "outputs": [
    {
     "data": {
      "text/html": [
       "<div>\n",
       "<style scoped>\n",
       "    .dataframe tbody tr th:only-of-type {\n",
       "        vertical-align: middle;\n",
       "    }\n",
       "\n",
       "    .dataframe tbody tr th {\n",
       "        vertical-align: top;\n",
       "    }\n",
       "\n",
       "    .dataframe thead th {\n",
       "        text-align: right;\n",
       "    }\n",
       "</style>\n",
       "<table border=\"1\" class=\"dataframe\">\n",
       "  <thead>\n",
       "    <tr style=\"text-align: right;\">\n",
       "      <th></th>\n",
       "      <th>Year</th>\n",
       "      <th>Status</th>\n",
       "      <th>Price</th>\n",
       "      <th>Acura ILX</th>\n",
       "      <th>Acura ILX 2.0L</th>\n",
       "      <th>Acura ILX 2.0L Technology</th>\n",
       "      <th>Acura ILX 2.0L w/Premium Package</th>\n",
       "      <th>Acura ILX 2.4L</th>\n",
       "      <th>Acura ILX Base</th>\n",
       "      <th>Acura ILX Premium &amp; A-SPEC Packages</th>\n",
       "      <th>...</th>\n",
       "      <th>Volkswagen Tiguan 2.0T SEL R-Line Black</th>\n",
       "      <th>Volkswagen Tiguan Limited 2.0T</th>\n",
       "      <th>Volkswagen Tiguan S</th>\n",
       "      <th>Volkswagen Tiguan SE</th>\n",
       "      <th>Volkswagen Tiguan SEL</th>\n",
       "      <th>Volkswagen Touareg Lux</th>\n",
       "      <th>Volkswagen Touareg V6 Wolfsburg Edition</th>\n",
       "      <th>Volkswagen Touareg VR6</th>\n",
       "      <th>Volkswagen e-Golf SE</th>\n",
       "      <th>Volkswagen e-Golf SEL Premium</th>\n",
       "    </tr>\n",
       "  </thead>\n",
       "  <tbody>\n",
       "    <tr>\n",
       "      <th>0</th>\n",
       "      <td>2022</td>\n",
       "      <td>1</td>\n",
       "      <td>49445</td>\n",
       "      <td>0</td>\n",
       "      <td>0</td>\n",
       "      <td>0</td>\n",
       "      <td>0</td>\n",
       "      <td>0</td>\n",
       "      <td>0</td>\n",
       "      <td>0</td>\n",
       "      <td>...</td>\n",
       "      <td>0</td>\n",
       "      <td>0</td>\n",
       "      <td>0</td>\n",
       "      <td>0</td>\n",
       "      <td>0</td>\n",
       "      <td>0</td>\n",
       "      <td>0</td>\n",
       "      <td>0</td>\n",
       "      <td>0</td>\n",
       "      <td>0</td>\n",
       "    </tr>\n",
       "    <tr>\n",
       "      <th>1</th>\n",
       "      <td>2023</td>\n",
       "      <td>1</td>\n",
       "      <td>50895</td>\n",
       "      <td>0</td>\n",
       "      <td>0</td>\n",
       "      <td>0</td>\n",
       "      <td>0</td>\n",
       "      <td>0</td>\n",
       "      <td>0</td>\n",
       "      <td>0</td>\n",
       "      <td>...</td>\n",
       "      <td>0</td>\n",
       "      <td>0</td>\n",
       "      <td>0</td>\n",
       "      <td>0</td>\n",
       "      <td>0</td>\n",
       "      <td>0</td>\n",
       "      <td>0</td>\n",
       "      <td>0</td>\n",
       "      <td>0</td>\n",
       "      <td>0</td>\n",
       "    </tr>\n",
       "    <tr>\n",
       "      <th>2</th>\n",
       "      <td>2023</td>\n",
       "      <td>1</td>\n",
       "      <td>57745</td>\n",
       "      <td>0</td>\n",
       "      <td>0</td>\n",
       "      <td>0</td>\n",
       "      <td>0</td>\n",
       "      <td>0</td>\n",
       "      <td>0</td>\n",
       "      <td>0</td>\n",
       "      <td>...</td>\n",
       "      <td>0</td>\n",
       "      <td>0</td>\n",
       "      <td>0</td>\n",
       "      <td>0</td>\n",
       "      <td>0</td>\n",
       "      <td>0</td>\n",
       "      <td>0</td>\n",
       "      <td>0</td>\n",
       "      <td>0</td>\n",
       "      <td>0</td>\n",
       "    </tr>\n",
       "    <tr>\n",
       "      <th>3</th>\n",
       "      <td>2023</td>\n",
       "      <td>1</td>\n",
       "      <td>57545</td>\n",
       "      <td>0</td>\n",
       "      <td>0</td>\n",
       "      <td>0</td>\n",
       "      <td>0</td>\n",
       "      <td>0</td>\n",
       "      <td>0</td>\n",
       "      <td>0</td>\n",
       "      <td>...</td>\n",
       "      <td>0</td>\n",
       "      <td>0</td>\n",
       "      <td>0</td>\n",
       "      <td>0</td>\n",
       "      <td>0</td>\n",
       "      <td>0</td>\n",
       "      <td>0</td>\n",
       "      <td>0</td>\n",
       "      <td>0</td>\n",
       "      <td>0</td>\n",
       "    </tr>\n",
       "    <tr>\n",
       "      <th>4</th>\n",
       "      <td>2019</td>\n",
       "      <td>0</td>\n",
       "      <td>40990</td>\n",
       "      <td>0</td>\n",
       "      <td>0</td>\n",
       "      <td>0</td>\n",
       "      <td>0</td>\n",
       "      <td>0</td>\n",
       "      <td>0</td>\n",
       "      <td>0</td>\n",
       "      <td>...</td>\n",
       "      <td>0</td>\n",
       "      <td>0</td>\n",
       "      <td>0</td>\n",
       "      <td>0</td>\n",
       "      <td>0</td>\n",
       "      <td>0</td>\n",
       "      <td>0</td>\n",
       "      <td>0</td>\n",
       "      <td>0</td>\n",
       "      <td>0</td>\n",
       "    </tr>\n",
       "  </tbody>\n",
       "</table>\n",
       "<p>5 rows × 1207 columns</p>\n",
       "</div>"
      ],
      "text/plain": [
       "   Year  Status  Price  Acura ILX   Acura ILX 2.0L  Acura ILX 2.0L Technology  \\\n",
       "0  2022       1  49445           0               0                          0   \n",
       "1  2023       1  50895           0               0                          0   \n",
       "2  2023       1  57745           0               0                          0   \n",
       "3  2023       1  57545           0               0                          0   \n",
       "4  2019       0  40990           0               0                          0   \n",
       "\n",
       "   Acura ILX 2.0L w/Premium Package  Acura ILX 2.4L  Acura ILX Base  \\\n",
       "0                                 0               0               0   \n",
       "1                                 0               0               0   \n",
       "2                                 0               0               0   \n",
       "3                                 0               0               0   \n",
       "4                                 0               0               0   \n",
       "\n",
       "   Acura ILX Premium & A-SPEC Packages  ...  \\\n",
       "0                                    0  ...   \n",
       "1                                    0  ...   \n",
       "2                                    0  ...   \n",
       "3                                    0  ...   \n",
       "4                                    0  ...   \n",
       "\n",
       "   Volkswagen Tiguan 2.0T SEL R-Line Black  Volkswagen Tiguan Limited 2.0T  \\\n",
       "0                                        0                               0   \n",
       "1                                        0                               0   \n",
       "2                                        0                               0   \n",
       "3                                        0                               0   \n",
       "4                                        0                               0   \n",
       "\n",
       "   Volkswagen Tiguan S  Volkswagen Tiguan SE  Volkswagen Tiguan SEL  \\\n",
       "0                    0                     0                      0   \n",
       "1                    0                     0                      0   \n",
       "2                    0                     0                      0   \n",
       "3                    0                     0                      0   \n",
       "4                    0                     0                      0   \n",
       "\n",
       "   Volkswagen Touareg Lux  Volkswagen Touareg V6 Wolfsburg Edition  \\\n",
       "0                       0                                        0   \n",
       "1                       0                                        0   \n",
       "2                       0                                        0   \n",
       "3                       0                                        0   \n",
       "4                       0                                        0   \n",
       "\n",
       "   Volkswagen Touareg VR6  Volkswagen e-Golf SE  Volkswagen e-Golf SEL Premium  \n",
       "0                       0                     0                              0  \n",
       "1                       0                     0                              0  \n",
       "2                       0                     0                              0  \n",
       "3                       0                     0                              0  \n",
       "4                       0                     0                              0  \n",
       "\n",
       "[5 rows x 1207 columns]"
      ]
     },
     "execution_count": 34,
     "metadata": {},
     "output_type": "execute_result"
    }
   ],
   "source": [
    "X = df.drop([\"Status\"], axis = 1)\n",
    "df.head()"
   ]
  },
  {
   "cell_type": "code",
   "execution_count": 35,
   "id": "e9d3729c",
   "metadata": {},
   "outputs": [
    {
     "data": {
      "text/plain": [
       "0    1\n",
       "1    1\n",
       "2    1\n",
       "3    1\n",
       "4    0\n",
       "Name: Status, dtype: int64"
      ]
     },
     "execution_count": 35,
     "metadata": {},
     "output_type": "execute_result"
    }
   ],
   "source": [
    "y = df.Status\n",
    "y.head()"
   ]
  },
  {
   "cell_type": "code",
   "execution_count": 36,
   "id": "b03f1171",
   "metadata": {},
   "outputs": [
    {
     "data": {
      "text/plain": [
       "109061"
      ]
     },
     "execution_count": 36,
     "metadata": {},
     "output_type": "execute_result"
    }
   ],
   "source": [
    "len(y)"
   ]
  },
  {
   "cell_type": "code",
   "execution_count": 37,
   "id": "7b6ef936",
   "metadata": {},
   "outputs": [],
   "source": [
    "from sklearn.model_selection import train_test_split\n",
    "X_train, X_test, y_train, y_test = train_test_split(X,y, test_size=0.2, random_state=0)"
   ]
  },
  {
   "cell_type": "code",
   "execution_count": 38,
   "id": "ae536300",
   "metadata": {},
   "outputs": [],
   "source": [
    "from sklearn.linear_model import LogisticRegression\n",
    "model = LogisticRegression()\n",
    "model.fit(X_train, y_train)\n",
    "y_pred = model.predict(X_test)"
   ]
  },
  {
   "cell_type": "code",
   "execution_count": 39,
   "id": "4554eb4b",
   "metadata": {},
   "outputs": [
    {
     "data": {
      "text/plain": [
       "array([[10620,  1732],\n",
       "       [ 5508,  3953]], dtype=int64)"
      ]
     },
     "execution_count": 39,
     "metadata": {},
     "output_type": "execute_result"
    }
   ],
   "source": [
    "from sklearn.metrics import confusion_matrix\n",
    "cm = confusion_matrix(y_test, y_pred)\n",
    "cm"
   ]
  },
  {
   "cell_type": "code",
   "execution_count": 40,
   "id": "50e5491f",
   "metadata": {},
   "outputs": [
    {
     "data": {
      "text/plain": [
       "Text(0.5, 1.0, 'Confusion Matrix Heat Map')"
      ]
     },
     "execution_count": 40,
     "metadata": {},
     "output_type": "execute_result"
    },
    {
     "data": {
      "image/png": "[encoded data removed]",
      "text/plain": [
       "<Figure size 600x500 with 2 Axes>"
      ]
     },
     "metadata": {},
     "output_type": "display_data"
    }
   ],
   "source": [
    "plt.figure(figsize=(6,5))\n",
    "sns.heatmap(cm, annot=True, fmt=\"d\")\n",
    "plt.xlabel(\"Predicted\")\n",
    "plt.ylabel(\"Truth\")\n",
    "plt.title(\"Confusion Matrix Heat Map\")"
   ]
  },
  {
   "cell_type": "code",
   "execution_count": 41,
   "id": "ee8a5093",
   "metadata": {},
   "outputs": [
    {
     "data": {
      "text/plain": [
       "66.80878375280795"
      ]
     },
     "execution_count": 41,
     "metadata": {},
     "output_type": "execute_result"
    }
   ],
   "source": [
    "TP = cm[1,1]\n",
    "TN = cm[0,0]\n",
    "FP = cm[0,1]\n",
    "FN = cm[1,0]\n",
    "\n",
    "accuracy = ((TP+TN)/(TP+TN+FP+FN))*100\n",
    "accuracy"
   ]
  },
  {
   "cell_type": "code",
   "execution_count": 42,
   "id": "7deaeca3",
   "metadata": {},
   "outputs": [],
   "source": [
    "from sklearn.neighbors import KNeighborsClassifier\n",
    "model = KNeighborsClassifier(n_neighbors = 10)\n",
    "model.fit(X_train, y_train)\n",
    "y_pred = model.predict(X_test) "
   ]
  },
  {
   "cell_type": "code",
   "execution_count": 43,
   "id": "ac12e133",
   "metadata": {},
   "outputs": [
    {
     "data": {
      "text/plain": [
       "array([[11060,  1292],\n",
       "       [ 1520,  7941]], dtype=int64)"
      ]
     },
     "execution_count": 43,
     "metadata": {},
     "output_type": "execute_result"
    }
   ],
   "source": [
    "cm = confusion_matrix(y_test, y_pred)\n",
    "cm"
   ]
  },
  {
   "cell_type": "code",
   "execution_count": 44,
   "id": "e77218a0",
   "metadata": {},
   "outputs": [
    {
     "data": {
      "text/plain": [
       "Text(0.5, 1.0, 'Confusion Matrix Heat Map')"
      ]
     },
     "execution_count": 44,
     "metadata": {},
     "output_type": "execute_result"
    },
    {
     "data": {
      "image/png": "[encoded data removed]",
      "text/plain": [
       "<Figure size 600x500 with 2 Axes>"
      ]
     },
     "metadata": {},
     "output_type": "display_data"
    }
   ],
   "source": [
    "plt.figure(figsize=(6,5))\n",
    "sns.heatmap(cm, annot=True, fmt=\"d\")\n",
    "plt.xlabel(\"Predicted\")\n",
    "plt.ylabel(\"Truth\")\n",
    "plt.title(\"Confusion Matrix Heat Map\")"
   ]
  },
  {
   "cell_type": "code",
   "execution_count": 45,
   "id": "087b66cf",
   "metadata": {},
   "outputs": [
    {
     "data": {
      "text/plain": [
       "87.10860496034475"
      ]
     },
     "execution_count": 45,
     "metadata": {},
     "output_type": "execute_result"
    }
   ],
   "source": [
    "TP = cm[1,1]\n",
    "TN = cm[0,0]\n",
    "FP = cm[0,1]\n",
    "FN = cm[1,0]\n",
    "\n",
    "accuracy = ((TP+TN)/(TP+TN+FP+FN))*100\n",
    "accuracy"
   ]
  },
  {
   "cell_type": "code",
   "execution_count": 46,
   "id": "5dcfcd45",
   "metadata": {},
   "outputs": [],
   "source": [
    "from sklearn.tree import DecisionTreeClassifier\n",
    "model = DecisionTreeClassifier(criterion = \"gini\")\n",
    "model.fit(X_train, y_train)\n",
    "y_pred = model.predict(X_test)"
   ]
  },
  {
   "cell_type": "code",
   "execution_count": 47,
   "id": "43b94ebd",
   "metadata": {},
   "outputs": [
    {
     "data": {
      "text/plain": [
       "array([[12041,   311],\n",
       "       [  265,  9196]], dtype=int64)"
      ]
     },
     "execution_count": 47,
     "metadata": {},
     "output_type": "execute_result"
    }
   ],
   "source": [
    "cm = confusion_matrix(y_test, y_pred)\n",
    "cm"
   ]
  },
  {
   "cell_type": "code",
   "execution_count": 48,
   "id": "cb1590ee",
   "metadata": {},
   "outputs": [
    {
     "data": {
      "text/plain": [
       "Text(0.5, 1.0, 'Confusion Matrix Heat Map')"
      ]
     },
     "execution_count": 48,
     "metadata": {},
     "output_type": "execute_result"
    },
    {
     "data": {
      "image/png": "[encoded data removed]",
      "text/plain": [
       "<Figure size 600x500 with 2 Axes>"
      ]
     },
     "metadata": {},
     "output_type": "display_data"
    }
   ],
   "source": [
    "plt.figure(figsize=(6,5))\n",
    "sns.heatmap(cm, annot=True, fmt=\"d\")\n",
    "plt.xlabel(\"Predicted\")\n",
    "plt.ylabel(\"Truth\")\n",
    "plt.title(\"Confusion Matrix Heat Map\")"
   ]
  },
  {
   "cell_type": "code",
   "execution_count": 49,
   "id": "4125d2e2",
   "metadata": {},
   "outputs": [
    {
     "data": {
      "text/plain": [
       "97.35937285105213"
      ]
     },
     "execution_count": 49,
     "metadata": {},
     "output_type": "execute_result"
    }
   ],
   "source": [
    "TP = cm[1,1]\n",
    "TN = cm[0,0]\n",
    "FP = cm[0,1]\n",
    "FN = cm[1,0]\n",
    "\n",
    "accuracy = ((TP+TN)/(TP+TN+FP+FN))*100\n",
    "accuracy"
   ]
  },
  {
   "cell_type": "code",
   "execution_count": 50,
   "id": "4d19eec3",
   "metadata": {},
   "outputs": [],
   "source": [
    "from sklearn.ensemble import RandomForestClassifier\n",
    "model = RandomForestClassifier(n_estimators = 5, criterion = \"entropy\")\n",
    "model.fit(X_train, y_train)\n",
    "y_pred = model.predict(X_test)"
   ]
  },
  {
   "cell_type": "code",
   "execution_count": 51,
   "id": "9aba0417",
   "metadata": {},
   "outputs": [
    {
     "data": {
      "text/plain": [
       "array([[12029,   323],\n",
       "       [  236,  9225]], dtype=int64)"
      ]
     },
     "execution_count": 51,
     "metadata": {},
     "output_type": "execute_result"
    }
   ],
   "source": [
    "cm = confusion_matrix(y_test, y_pred)\n",
    "cm"
   ]
  },
  {
   "cell_type": "code",
   "execution_count": 52,
   "id": "ab95a86e",
   "metadata": {},
   "outputs": [
    {
     "data": {
      "text/plain": [
       "Text(0.5, 1.0, 'Confusion Matrix Heat Map')"
      ]
     },
     "execution_count": 52,
     "metadata": {},
     "output_type": "execute_result"
    },
    {
     "data": {
      "image/png": "[encoded data removed]",
      "text/plain": [
       "<Figure size 600x500 with 2 Axes>"
      ]
     },
     "metadata": {},
     "output_type": "display_data"
    }
   ],
   "source": [
    "plt.figure(figsize=(6,5))\n",
    "sns.heatmap(cm, annot=True, fmt=\"d\")\n",
    "plt.xlabel(\"Predicted\")\n",
    "plt.ylabel(\"Truth\")\n",
    "plt.title(\"Confusion Matrix Heat Map\")"
   ]
  },
  {
   "cell_type": "code",
   "execution_count": 53,
   "id": "15721917",
   "metadata": {},
   "outputs": [
    {
     "data": {
      "text/plain": [
       "97.43730802732316"
      ]
     },
     "execution_count": 53,
     "metadata": {},
     "output_type": "execute_result"
    }
   ],
   "source": [
    "TP = cm[1,1]\n",
    "TN = cm[0,0]\n",
    "FP = cm[0,1]\n",
    "FN = cm[1,0]\n",
    "\n",
    "accuracy = ((TP+TN)/(TP+TN+FP+FN))*100\n",
    "accuracy"
   ]
  },
  {
   "cell_type": "code",
   "execution_count": 54,
   "id": "0b4ec12d",
   "metadata": {},
   "outputs": [],
   "source": [
    "def predict_status(Model: str, Year: int, Price: float) -> str:\n",
    "    index = np.where(X.columns == Model)[0][0]\n",
    "    \n",
    "    x = np.zeros(len(X.columns))\n",
    "    x[0] = Year\n",
    "    x[1] = Price\n",
    "    x[index] = 1\n",
    "    \n",
    "    status = model.predict([x])[0]\n",
    "    if status == 1:\n",
    "        return \"New\"\n",
    "    if status == 0:\n",
    "        return \"Old\""
   ]
  },
  {
   "cell_type": "code",
   "execution_count": 55,
   "id": "8f148132",
   "metadata": {},
   "outputs": [
    {
     "name": "stderr",
     "output_type": "stream",
     "text": [
      "C:\\Users\\Rana\\AppData\\Local\\Programs\\Python\\Python310\\lib\\site-packages\\sklearn\\base.py:450: UserWarning: X does not have valid feature names, but RandomForestClassifier was fitted with feature names\n",
      "  warnings.warn(\n"
     ]
    },
    {
     "data": {
      "text/plain": [
       "'New'"
      ]
     },
     "execution_count": 55,
     "metadata": {},
     "output_type": "execute_result"
    }
   ],
   "source": [
    "predict_status(\"Volkswagen Tiguan 2.0T SE\", 2022, 50000)"
   ]
  },
  {
   "cell_type": "code",
   "execution_count": 56,
   "id": "070387bc",
   "metadata": {},
   "outputs": [],
   "source": [
    "import pickle\n",
    "with open(\"model.pickle\", \"wb\") as f:\n",
    "    pickle.dump(model, f)"
   ]
  },
  {
   "cell_type": "code",
   "execution_count": 57,
   "id": "7a218e81",
   "metadata": {},
   "outputs": [],
   "source": [
    "import json\n",
    "columns = {\n",
    "    \"data_columns\": [col.lower() for col in X.columns]\n",
    "}\n",
    "with open(\"columns.json\", \"w\") as f:\n",
    "    f.write(json.dumps(columns))"
   ]
  }
 ],
 "metadata": {
  "kernelspec": {
   "display_name": "Python 3 (ipykernel)",
   "language": "python",
   "name": "python3"
  },
  "language_info": {
   "codemirror_mode": {
    "name": "ipython",
    "version": 3
   },
   "file_extension": ".py",
   "mimetype": "text/x-python",
   "name": "python",
   "nbconvert_exporter": "python",
   "pygments_lexer": "ipython3",
   "version": "3.10.8"
  }
 },
 "nbformat": 4,
 "nbformat_minor": 5
}
